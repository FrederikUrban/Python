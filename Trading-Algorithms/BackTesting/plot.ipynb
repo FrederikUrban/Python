import MetaTrader5 as mt5
import matplotlib.pyplot as plt

# initialize connection to MetaTrader 5
mt5.initialize()
mt5.terminal_info()

# request the USDEUR currency pair data with 30-minute time frame
usdeur_data = mt5.copy_rates_from("USDEUR", mt5.TIMEFRAME_M30, 0, 1000)

# calculate the range for each candle
ranges = [candle.high - candle.low for candle in usdeur_data]

# count the number of candles with the specified ranges
count_lt_5 = sum(1 for r in ranges if r < 5)
count_ge_5_le_10 = sum(1 for r in ranges if 5 <= r <= 10)
count_gt_10 = sum(1 for r in ranges if r > 10)

# plot the results as a bar chart
plt.bar(["< 5 pips", ">= 5 and <= 10 pips", "> 10 pips"], [count_lt_5, count_ge_5_le_10, count_gt_10])
plt.title("Candles by Range")
plt.xlabel("Range (pips)")
plt.ylabel("Number of Candles")
plt.show()

# shut down connection to MetaTrader 5
mt5.shutdown()
