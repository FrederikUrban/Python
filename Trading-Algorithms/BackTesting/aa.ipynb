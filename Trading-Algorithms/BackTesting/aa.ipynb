{
 "cells": [
  {
   "cell_type": "code",
   "execution_count": 4,
   "metadata": {},
   "outputs": [
    {
     "ename": "TypeError",
     "evalue": "'NoneType' object is not iterable",
     "output_type": "error",
     "traceback": [
      "\u001b[1;31m---------------------------------------------------------------------------\u001b[0m",
      "\u001b[1;31mTypeError\u001b[0m                                 Traceback (most recent call last)",
      "Cell \u001b[1;32mIn[4], line 11\u001b[0m\n\u001b[0;32m      8\u001b[0m usdeur_data \u001b[39m=\u001b[39m mt5\u001b[39m.\u001b[39mcopy_rates_from(\u001b[39m\"\u001b[39m\u001b[39mUSDEUR\u001b[39m\u001b[39m\"\u001b[39m, mt5\u001b[39m.\u001b[39mTIMEFRAME_M30, \u001b[39m0\u001b[39m, \u001b[39m1000\u001b[39m)\n\u001b[0;32m     10\u001b[0m \u001b[39m# calculate the range for each candle\u001b[39;00m\n\u001b[1;32m---> 11\u001b[0m ranges \u001b[39m=\u001b[39m [usdeur_data\u001b[39m.\u001b[39mhigh \u001b[39m-\u001b[39m usdeur_data\u001b[39m.\u001b[39mlow \u001b[39mfor\u001b[39;00m candle \u001b[39min\u001b[39;00m usdeur_data]\n\u001b[0;32m     13\u001b[0m \u001b[39m# count the number of candles with the specified ranges\u001b[39;00m\n\u001b[0;32m     14\u001b[0m count_lt_5 \u001b[39m=\u001b[39m \u001b[39msum\u001b[39m(\u001b[39m1\u001b[39m \u001b[39mfor\u001b[39;00m r \u001b[39min\u001b[39;00m ranges \u001b[39mif\u001b[39;00m r \u001b[39m<\u001b[39m \u001b[39m5\u001b[39m)\n",
      "\u001b[1;31mTypeError\u001b[0m: 'NoneType' object is not iterable"
     ]
    }
   ],
   "source": [
    "import MetaTrader5 as mt5\n",
    "\n",
    "# initialize connection to MetaTrader 5\n",
    "mt5.initialize()\n",
    "\n",
    "# request the USDEUR currency pair data with 30-minute time frame\n",
    "usdeur_data = mt5.copy_rates_from(\"USDEUR\", mt5.TIMEFRAME_M30, 0, 1000)\n",
    "\n",
    "# count the number of candles with the specified conditions\n",
    "count_le_0 = sum(1 for candle in usdeur_data if candle.high - candle.open <= 0)\n",
    "count_gt_0_le_5 = sum(1 for candle in usdeur_data if 0 < candle.high - candle.open <= 5)\n",
    "count_gt_5_le_10 = sum(1 for candle in usdeur_data if 5 < candle.high - candle.open <= 10)\n",
    "count_gt_10 = sum(1 for candle in usdeur_data if candle.high - candle.open > 10)\n",
    "\n",
    "# print the results\n",
    "print(f\"Number of candles with (high - open <= 0 pips): {count_le_0}\")\n",
    "print(f\"Number of candles with (high - open <= 5 pips and > 0): {count_gt_0_le_5}\")\n",
    "print(f\"Number of candles with (high - open > 5 and <= 10 pips): {count_gt_5_le_10}\")\n",
    "print(f\"Number of candles with (high - open > 10 pips): {count_gt_10}\")\n",
    "\n",
    "# shut down connection to MetaTrader 5\n",
    "mt5.shutdown()\n"
   ]
  }
 ],
 "metadata": {
  "kernelspec": {
   "display_name": "Python 3",
   "language": "python",
   "name": "python3"
  },
  "language_info": {
   "codemirror_mode": {
    "name": "ipython",
    "version": 3
   },
   "file_extension": ".py",
   "mimetype": "text/x-python",
   "name": "python",
   "nbconvert_exporter": "python",
   "pygments_lexer": "ipython3",
   "version": "3.8.2"
  },
  "orig_nbformat": 4,
  "vscode": {
   "interpreter": {
    "hash": "0ea1484a34e091a99d414c2f24339f02483de35df86a55798c6718fe23293f9e"
   }
  }
 },
 "nbformat": 4,
 "nbformat_minor": 2
}
